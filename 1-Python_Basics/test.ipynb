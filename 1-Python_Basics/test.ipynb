{
 "cells": [
  {
   "cell_type": "code",
   "execution_count": 1,
   "id": "ad714e21",
   "metadata": {},
   "outputs": [
    {
     "data": {
      "text/plain": [
       "2"
      ]
     },
     "execution_count": 1,
     "metadata": {},
     "output_type": "execute_result"
    }
   ],
   "source": [
    "1+1"
   ]
  },
  {
   "cell_type": "code",
   "execution_count": 2,
   "id": "dee360d6",
   "metadata": {},
   "outputs": [
    {
     "name": "stdout",
     "output_type": "stream",
     "text": [
      "Hello\n"
     ]
    }
   ],
   "source": [
    "print(\"Hello\")"
   ]
  },
  {
   "cell_type": "code",
   "execution_count": 3,
   "id": "dfcd042d",
   "metadata": {},
   "outputs": [
    {
     "name": "stdout",
     "output_type": "stream",
     "text": [
      "Afiya\n",
      "Zannuba\n"
     ]
    }
   ],
   "source": [
    "## Basic Syntax Rules in Python\n",
    "## Case sensitivity\n",
    "\n",
    "name = \"Afiya\"\n",
    "Name = \"Zannuba\"\n",
    "\n",
    "print(name)\n",
    "print(Name)"
   ]
  },
  {
   "cell_type": "code",
   "execution_count": 7,
   "id": "8c40af80",
   "metadata": {},
   "outputs": [
    {
     "name": "stdout",
     "output_type": "stream",
     "text": [
      "false\n"
     ]
    }
   ],
   "source": [
    "##indentation\n",
    "\n",
    "age = 10\n",
    "if age>30:\n",
    "    print(age)\n",
    "else:\n",
    "    print(\"false\")"
   ]
  },
  {
   "cell_type": "code",
   "execution_count": 9,
   "id": "d96daf5f",
   "metadata": {},
   "outputs": [
    {
     "name": "stdout",
     "output_type": "stream",
     "text": [
      "8\n"
     ]
    }
   ],
   "source": [
    "## Line continuation\n",
    "x=3;y=5;z=x+y\n",
    "print(z)\n"
   ]
  },
  {
   "cell_type": "code",
   "execution_count": 13,
   "id": "6b205389",
   "metadata": {},
   "outputs": [],
   "source": [
    "## Understand Semantics in Python\n",
    "# variable assignment\n",
    "\n",
    "age=32 ##we don't have to add integer type like other languages. kernel knows.\n",
    "name=\"Krish\" ##name will be a string\n"
   ]
  },
  {
   "cell_type": "code",
   "execution_count": null,
   "id": "3fac95a0",
   "metadata": {},
   "outputs": [
    {
     "data": {
      "text/plain": [
       "int"
      ]
     },
     "execution_count": 16,
     "metadata": {},
     "output_type": "execute_result"
    }
   ],
   "source": [
    "type(age)"
   ]
  },
  {
   "cell_type": "code",
   "execution_count": 15,
   "id": "f3ed2de6",
   "metadata": {},
   "outputs": [
    {
     "data": {
      "text/plain": [
       "str"
      ]
     },
     "execution_count": 15,
     "metadata": {},
     "output_type": "execute_result"
    }
   ],
   "source": [
    "type(name)"
   ]
  },
  {
   "cell_type": "code",
   "execution_count": 18,
   "id": "ac396673",
   "metadata": {},
   "outputs": [
    {
     "name": "stdout",
     "output_type": "stream",
     "text": [
      "<class 'int'>\n",
      "<class 'str'>\n"
     ]
    }
   ],
   "source": [
    "##Type inference\n",
    "age = 10\n",
    "print(type(age))\n",
    "age=\"ten\"\n",
    "print(type(age))"
   ]
  },
  {
   "cell_type": "code",
   "execution_count": 20,
   "id": "de6c2824",
   "metadata": {},
   "outputs": [],
   "source": [
    "##indentation error\n",
    "\n",
    "age=32\n",
    "if age>32:\n",
    "    print (age)"
   ]
  },
  {
   "cell_type": "code",
   "execution_count": 22,
   "id": "93a576d7",
   "metadata": {},
   "outputs": [
    {
     "name": "stdout",
     "output_type": "stream",
     "text": [
      "32\n"
     ]
    }
   ],
   "source": [
    "age=32\n",
    "if age>30:\n",
    "    print (age)"
   ]
  },
  {
   "cell_type": "code",
   "execution_count": 23,
   "id": "200fd71c",
   "metadata": {},
   "outputs": [
    {
     "name": "stdout",
     "output_type": "stream",
     "text": [
      "correct indentation\n",
      "This will print\n",
      "Outside the if block\n"
     ]
    }
   ],
   "source": [
    "if True:\n",
    "    print(\"correct indentation\")\n",
    "    if False:\n",
    "        print(\"This won't print\")\n",
    "    print(\"This will print\")\n",
    "print(\"Outside the if block\")"
   ]
  },
  {
   "cell_type": "code",
   "execution_count": null,
   "id": "98161f47",
   "metadata": {},
   "outputs": [],
   "source": [
    "a=100"
   ]
  },
  {
   "cell_type": "code",
   "execution_count": 27,
   "id": "dc7248ab",
   "metadata": {},
   "outputs": [
    {
     "name": "stdout",
     "output_type": "stream",
     "text": [
      "Age:  32\n",
      "Height:  6.1\n",
      "Name:  Afiya\n",
      "Afiya is True\n"
     ]
    }
   ],
   "source": [
    "## declaring and assigning variables\n",
    "\n",
    "age=32\n",
    "height=6.1\n",
    "name=\"Afiya\"\n",
    "is_student=True\n",
    "\n",
    "## printing the variables\n",
    "\n",
    "print(\"Age: \",age)\n",
    "print(\"Height: \",height)\n",
    "print(\"Name: \",name)\n",
    "print(name, \"is\", is_student)"
   ]
  },
  {
   "cell_type": "code",
   "execution_count": 28,
   "id": "782acaae",
   "metadata": {},
   "outputs": [],
   "source": [
    "#valid variable names:\n",
    "\n",
    "first_name=\"Krish\"\n",
    "last_name=\"Naik\""
   ]
  },
  {
   "cell_type": "code",
   "execution_count": 29,
   "id": "9f25f23b",
   "metadata": {},
   "outputs": [
    {
     "ename": "SyntaxError",
     "evalue": "invalid decimal literal (3299511992.py, line 2)",
     "output_type": "error",
     "traceback": [
      "  \u001b[36mCell\u001b[39m\u001b[36m \u001b[39m\u001b[32mIn[29]\u001b[39m\u001b[32m, line 2\u001b[39m\n\u001b[31m    \u001b[39m\u001b[31m2age = 30\u001b[39m\n    ^\n\u001b[31mSyntaxError\u001b[39m\u001b[31m:\u001b[39m invalid decimal literal\n"
     ]
    }
   ],
   "source": [
    "## Invalid variable names\n",
    "2age = 30\n",
    "first-name=\"Krish\"\n",
    "@name = \"Krish\""
   ]
  },
  {
   "cell_type": "code",
   "execution_count": 31,
   "id": "d476ee6c",
   "metadata": {},
   "outputs": [
    {
     "data": {
      "text/plain": [
       "False"
      ]
     },
     "execution_count": 31,
     "metadata": {},
     "output_type": "execute_result"
    }
   ],
   "source": [
    "##case sensitive\n",
    "\n",
    "name=\"Krish\"\n",
    "Name=\"Naik\"\n",
    "\n",
    "name == Name"
   ]
  },
  {
   "cell_type": "code",
   "execution_count": null,
   "id": "857d69ac",
   "metadata": {},
   "outputs": [],
   "source": [
    "## understanding variable types\n",
    "age = 25 #int\n",
    "height = 6.1 #float\n",
    "name = \"Krish\" #string\n",
    "is_student = True #boolean\n",
    "\n",
    "print(type(age))\n",
    "print(type(height))\n",
    "print(type(name))\n",
    "print(type(is_student))"
   ]
  }
 ],
 "metadata": {
  "kernelspec": {
   "display_name": "Python 3",
   "language": "python",
   "name": "python3"
  },
  "language_info": {
   "codemirror_mode": {
    "name": "ipython",
    "version": 3
   },
   "file_extension": ".py",
   "mimetype": "text/x-python",
   "name": "python",
   "nbconvert_exporter": "python",
   "pygments_lexer": "ipython3",
   "version": "3.12.0"
  }
 },
 "nbformat": 4,
 "nbformat_minor": 5
}
