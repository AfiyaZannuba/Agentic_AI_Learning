{
 "cells": [
  {
   "cell_type": "markdown",
   "id": "51bdb48f",
   "metadata": {},
   "source": [
    "Function\n",
    "\n",
    "A function is a block of code that performs a specific task. Functions help in organizing code, reusing code and improving readability.\n"
   ]
  },
  {
   "cell_type": "code",
   "execution_count": 1,
   "id": "db9a7f89",
   "metadata": {},
   "outputs": [],
   "source": [
    "## Syntax\n",
    "\n",
    "def function_name(parameters):\n",
    "    \"\"\"Docstring\"\"\"\n",
    "    # Function body\n",
    "    return expression\n",
    "    "
   ]
  },
  {
   "cell_type": "code",
   "execution_count": 2,
   "id": "3dc753d5",
   "metadata": {},
   "outputs": [
    {
     "name": "stdout",
     "output_type": "stream",
     "text": [
      "the number is even\n"
     ]
    }
   ],
   "source": [
    "## why functions are required?\n",
    "\n",
    "num = 24\n",
    "if num%2 == 0:\n",
    "    print(\"the number is even\")\n",
    "else:\n",
    "    print(\"the number is odd\")"
   ]
  },
  {
   "cell_type": "code",
   "execution_count": null,
   "id": "29326daf",
   "metadata": {},
   "outputs": [
    {
     "name": "stdout",
     "output_type": "stream",
     "text": [
      "the number is even\n"
     ]
    }
   ],
   "source": [
    "# In multiple places this piece of code may required. So inorder to reuse this code easily, it is written inside a function. Then you only have to call the function wherever it's required. Always check if the indentation is correct.\n",
    "\n",
    "def even_or_odd(num):\n",
    "    \"\"\"This function finds even or odd\"\"\"\n",
    "    if num%2==0:\n",
    "        print(\"the number is even\")\n",
    "    else:\n",
    "        print(\"the number is odd\")\n",
    "\n",
    "## Call this function and pass the parameter\n",
    "even_or_odd(78)\n",
    "\n",
    "## output: the number is even\n",
    "\n"
   ]
  },
  {
   "cell_type": "code",
   "execution_count": null,
   "id": "445ec0d6",
   "metadata": {},
   "outputs": [
    {
     "data": {
      "text/plain": [
       "5"
      ]
     },
     "execution_count": 6,
     "metadata": {},
     "output_type": "execute_result"
    }
   ],
   "source": [
    "### Function with multiple parameters\n",
    "\n",
    "def add(a,b):\n",
    "    \"\"\"Addition of numbers\"\"\"\n",
    "    c=a+b\n",
    "    return c\n",
    "add(2,3)\n",
    "\n",
    "## Output: 5\n"
   ]
  },
  {
   "cell_type": "code",
   "execution_count": null,
   "id": "e4095bcf",
   "metadata": {},
   "outputs": [
    {
     "name": "stdout",
     "output_type": "stream",
     "text": [
      "Hello Afiya\n",
      "Hello 34\n",
      "Hello Guest\n"
     ]
    }
   ],
   "source": [
    "## Default Parameters\n",
    "## By default we can add something like guest along with function as default parameters. So even if don't pass any parameters while passing the function, it will take guest as the parameter.\n",
    "\n",
    "def greet(name=\"Guest\"):\n",
    "    print(f\"Hello {name}\")\n",
    "\n",
    "greet(\"Afiya\")\n",
    "greet(34)\n",
    "\n",
    "## Output:\n",
    "# Hello Afiya\n",
    "# Hello 34\n",
    "\n",
    "greet()"
   ]
  },
  {
   "cell_type": "code",
   "execution_count": null,
   "id": "054c25d0",
   "metadata": {},
   "outputs": [
    {
     "name": "stdout",
     "output_type": "stream",
     "text": [
      "1\n",
      "2\n",
      "Hello\n",
      "7.56\n",
      "33\n",
      "True\n"
     ]
    }
   ],
   "source": [
    "### Variable Length Arguments\n",
    "## Positional and Keywords Arguments\n",
    "\n",
    "## Positional Arguments\n",
    "## In the cases where you have more than 1 parameter, we use an asterisk- (default way is *args)\n",
    "## This *args will have multiple parameters.\n",
    "\n",
    "\n",
    "def print_numbers(*args):\n",
    "    for numbers in args:\n",
    "        print (numbers)\n",
    "    \n",
    "print_numbers(1,2,\"Hello\",7.56, 33, True)\n",
    "\n",
    "##Output:\n",
    "# 1\n",
    "# 2\n",
    "# Hello\n",
    "# 7.56\n",
    "# 33\n",
    "# True\n"
   ]
  },
  {
   "cell_type": "code",
   "execution_count": null,
   "id": "d1d86701",
   "metadata": {},
   "outputs": [
    {
     "name": "stdout",
     "output_type": "stream",
     "text": [
      "name: Afiya\n",
      "age: 32\n",
      "country: India\n"
     ]
    }
   ],
   "source": [
    "### Keywords Arguments\n",
    "## For keywords arguments to showcase that all parameters represented by double asterisk - (**kwargs). All the parameters present inside the keywords arguments will be in key value pairs.\n",
    "\n",
    "def print_details(**kwargs):\n",
    "    for key,value in kwargs.items():\n",
    "        print(f\"{key}: {value}\")\n",
    "\n",
    "print_details(name=\"Afiya\", age=\"32\", country=\"India\")\n",
    "\n",
    "## Output: \n",
    "# name: Afiya\n",
    "# age: 32\n",
    "# country: India\n"
   ]
  },
  {
   "cell_type": "code",
   "execution_count": null,
   "id": "6c4e26f1",
   "metadata": {},
   "outputs": [
    {
     "name": "stdout",
     "output_type": "stream",
     "text": [
      "Positional Argument1\n",
      " \n",
      "Positional Argument2\n",
      " \n",
      "Positional Argument3\n",
      " \n",
      "Positional Argument4\n",
      " \n",
      "Positional Argument5\n",
      " \n",
      "Positional ArgumentKrish\n",
      " \n",
      "name: Krish\n",
      "age: 45\n"
     ]
    }
   ],
   "source": [
    "### Combining positional and keyword Arguments\n",
    "\n",
    "## One thing to remember importantly is that we must follow this rule \"positional argument follows keyword argument\"\n",
    "\n",
    "def print_details(*args, **kwargs):\n",
    "    for val in args:\n",
    "        print (f\"Positional Argument{val}\")\n",
    "    for key, value in kwargs.items():\n",
    "        print(f\"{key}: {value}\")\n",
    "\n",
    "print_details(1,2, 3,4,5, \"Chandu\", name=\"Krish\", age=\"45\")"
   ]
  },
  {
   "cell_type": "code",
   "execution_count": null,
   "id": "66d363a0",
   "metadata": {},
   "outputs": [],
   "source": []
  }
 ],
 "metadata": {
  "kernelspec": {
   "display_name": "Python 3",
   "language": "python",
   "name": "python3"
  },
  "language_info": {
   "codemirror_mode": {
    "name": "ipython",
    "version": 3
   },
   "file_extension": ".py",
   "mimetype": "text/x-python",
   "name": "python",
   "nbconvert_exporter": "python",
   "pygments_lexer": "ipython3",
   "version": "3.12.0"
  }
 },
 "nbformat": 4,
 "nbformat_minor": 5
}
