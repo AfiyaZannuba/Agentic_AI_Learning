{
 "cells": [
  {
   "cell_type": "markdown",
   "id": "6ec4d09c",
   "metadata": {},
   "source": [
    "Temperature Conversion\n"
   ]
  },
  {
   "cell_type": "code",
   "execution_count": null,
   "id": "5b947f8c",
   "metadata": {},
   "outputs": [
    {
     "ename": "NameError",
     "evalue": "name 'convert_temperture' is not defined",
     "output_type": "error",
     "traceback": [
      "\u001b[31m---------------------------------------------------------------------------\u001b[39m",
      "\u001b[31mNameError\u001b[39m                                 Traceback (most recent call last)",
      "\u001b[36mCell\u001b[39m\u001b[36m \u001b[39m\u001b[32mIn[5]\u001b[39m\u001b[32m, line 15\u001b[39m\n\u001b[32m     12\u001b[39m convert_temperature(\u001b[32m77\u001b[39m, \u001b[33m\"\u001b[39m\u001b[33mF\u001b[39m\u001b[33m\"\u001b[39m)\n\u001b[32m     13\u001b[39m \u001b[38;5;66;03m## Output: 25.0\u001b[39;00m\n\u001b[32m---> \u001b[39m\u001b[32m15\u001b[39m \u001b[43mconvert_temperture\u001b[49m(\u001b[32m88\u001b[39m)\n",
      "\u001b[31mNameError\u001b[39m: name 'convert_temperture' is not defined"
     ]
    }
   ],
   "source": [
    "def convert_temperature(temp,unit):\n",
    "    \"\"\"This function converts temperature between celsius and fahrenheit\"\"\"\n",
    "    if unit == \"C\":\n",
    "        return temp * 9/5 + 32 ## Celsius to Fahrenheit\n",
    "    elif unit == \"F\":\n",
    "        return (temp-32) * 5/9 ## Fahrenheit to Celsius\n",
    "    else:\n",
    "        return None\n",
    "convert_temperature(25, \"C\")\n",
    "## Output: 77.0\n",
    "\n",
    "convert_temperature(77, \"F\")\n",
    "## Output: 25.0\n",
    "\n"
   ]
  },
  {
   "cell_type": "markdown",
   "id": "a3775f19",
   "metadata": {},
   "source": [
    "Password Strength Checker"
   ]
  },
  {
   "cell_type": "code",
   "execution_count": 7,
   "id": "553116ba",
   "metadata": {},
   "outputs": [
    {
     "data": {
      "text/plain": [
       "False"
      ]
     },
     "execution_count": 7,
     "metadata": {},
     "output_type": "execute_result"
    }
   ],
   "source": [
    "def is_strong_password(password):\n",
    "    \"\"\"This function checks if password is strong or not\"\"\"\n",
    "    if len(password)<8:\n",
    "        return False\n",
    "    if not any(char.isdigit() for char in password):\n",
    "        return False\n",
    "    if not any(char.islower() for char in password):\n",
    "        return False\n",
    "    if not any (char.isupper() for char in password):\n",
    "        return False\n",
    "    if not any(char in '!@#$^&*()_+' for char in password):\n",
    "        return False\n",
    "    return True\n",
    "\n",
    "is_strong_password(\"12345\")"
   ]
  },
  {
   "cell_type": "markdown",
   "id": "8cfc74c1",
   "metadata": {},
   "source": [
    "Calculate the Total Cost of Items in a Shopping Cart"
   ]
  },
  {
   "cell_type": "code",
   "execution_count": null,
   "id": "75b51ef2",
   "metadata": {},
   "outputs": [
    {
     "data": {
      "text/plain": [
       "10.8"
      ]
     },
     "execution_count": 10,
     "metadata": {},
     "output_type": "execute_result"
    }
   ],
   "source": [
    "def calculate_total_cost(cart):\n",
    "    total_cost=0\n",
    "    for item in cart:\n",
    "        total_cost+=item[\"Price\"]*item[\"quantity\"]\n",
    "    return total_cost\n",
    "\n",
    "## Example cart data\n",
    "\n",
    "cart = [\n",
    "    {\"name\": \"Apple\", \"Price\": 0.5, \"quantity\": 4},\n",
    "    {\"name\": \"Banana\", \"Price\": 0.3, \"quantity\": 6},\n",
    "    {\"name\": \"Orange\", \"Price\": 0.7, \"quantity\": 10},\n",
    "]\n",
    "\n",
    "calculate_total_cost(cart)\n",
    "\n",
    "## Output: 10.8"
   ]
  },
  {
   "cell_type": "markdown",
   "id": "0290dbfa",
   "metadata": {},
   "source": [
    "Check if a string is palindrome"
   ]
  },
  {
   "cell_type": "code",
   "execution_count": null,
   "id": "4fc7297b",
   "metadata": {},
   "outputs": [
    {
     "data": {
      "text/plain": [
       "False"
      ]
     },
     "execution_count": 12,
     "metadata": {},
     "output_type": "execute_result"
    }
   ],
   "source": [
    "def is_palindrome(word):\n",
    "    word=word.lower().replace(\" \",\"\")\n",
    "    return word==word[::-1]\n",
    "\n",
    "is_palindrome(\"MALAYALAM\")\n",
    "## Output: True\n",
    "is_palindrome(\"Hello\")\n",
    "## Output: False\n",
    "    "
   ]
  },
  {
   "cell_type": "markdown",
   "id": "3aaabc2d",
   "metadata": {},
   "source": [
    "Calculate the factorials of a number using recursion"
   ]
  },
  {
   "cell_type": "code",
   "execution_count": null,
   "id": "6755fbc9",
   "metadata": {},
   "outputs": [
    {
     "data": {
      "text/plain": [
       "120"
      ]
     },
     "execution_count": 14,
     "metadata": {},
     "output_type": "execute_result"
    }
   ],
   "source": [
    "## Recursion is if we create a function, that function, that function inside the body of that function will be called again and again.\n",
    "\n",
    "def factorial(n):\n",
    "    if n==0:\n",
    "        return 1\n",
    "    else:\n",
    "        return n*factorial(n-1)\n",
    "\n",
    "factorial(5)\n",
    "\n",
    "## Output: 120\n"
   ]
  },
  {
   "cell_type": "markdown",
   "id": "232697b2",
   "metadata": {},
   "source": [
    "A Function to read a file and count the frequency of each word"
   ]
  },
  {
   "cell_type": "code",
   "execution_count": null,
   "id": "02087f9f",
   "metadata": {},
   "outputs": [
    {
     "ename": "NameError",
     "evalue": "name 'word' is not defined",
     "output_type": "error",
     "traceback": [
      "\u001b[31m---------------------------------------------------------------------------\u001b[39m",
      "\u001b[31mNameError\u001b[39m                                 Traceback (most recent call last)",
      "\u001b[36mCell\u001b[39m\u001b[36m \u001b[39m\u001b[32mIn[18]\u001b[39m\u001b[32m, line 11\u001b[39m\n\u001b[32m      9\u001b[39m     \u001b[38;5;28;01mreturn\u001b[39;00m word_count\n\u001b[32m     10\u001b[39m file_path=\u001b[33m\"\u001b[39m\u001b[33mNotes.txt\u001b[39m\u001b[33m\"\u001b[39m\n\u001b[32m---> \u001b[39m\u001b[32m11\u001b[39m \u001b[43mcount_word_frequency\u001b[49m\u001b[43m(\u001b[49m\u001b[43mfile_path\u001b[49m\u001b[43m)\u001b[49m\n",
      "\u001b[36mCell\u001b[39m\u001b[36m \u001b[39m\u001b[32mIn[18]\u001b[39m\u001b[32m, line 6\u001b[39m, in \u001b[36mcount_word_frequency\u001b[39m\u001b[34m(file_path)\u001b[39m\n\u001b[32m      4\u001b[39m \u001b[38;5;28;01mfor\u001b[39;00m line \u001b[38;5;129;01min\u001b[39;00m file:\n\u001b[32m      5\u001b[39m     words = line.split()\n\u001b[32m----> \u001b[39m\u001b[32m6\u001b[39m     \u001b[38;5;28;01mfor\u001b[39;00m words \u001b[38;5;129;01min\u001b[39;00m \u001b[43mword\u001b[49m:\n\u001b[32m      7\u001b[39m         word==word.lower().strip(\u001b[33m'\u001b[39m\u001b[33m.,!?;:\u001b[39m\u001b[33m\"\u001b[39m\u001b[38;5;130;01m\\'\u001b[39;00m\u001b[33m'\u001b[39m)\n\u001b[32m      8\u001b[39m         word_count[word] = word_count.get(word,\u001b[32m0\u001b[39m)+\u001b[32m1\u001b[39m\n",
      "\u001b[31mNameError\u001b[39m: name 'word' is not defined"
     ]
    }
   ],
   "source": [
    "def count_word_frequency(file_path):\n",
    "    word_count={}\n",
    "    with open(file_path, \"r\") as file:\n",
    "        for line in file:\n",
    "            words = line.split()\n",
    "            for word in words:\n",
    "                word==word.lower().strip('.,!?;:\"\\'')\n",
    "                word_count[word] = word_count.get(word,0)+1\n",
    "    return word_count\n",
    "file_path=\"Notes.txt\"\n",
    "count_word_frequency(file_path)"
   ]
  },
  {
   "cell_type": "code",
   "execution_count": null,
   "id": "bead80c8",
   "metadata": {},
   "outputs": [],
   "source": []
  }
 ],
 "metadata": {
  "kernelspec": {
   "display_name": "Python 3",
   "language": "python",
   "name": "python3"
  },
  "language_info": {
   "codemirror_mode": {
    "name": "ipython",
    "version": 3
   },
   "file_extension": ".py",
   "mimetype": "text/x-python",
   "name": "python",
   "nbconvert_exporter": "python",
   "pygments_lexer": "ipython3",
   "version": "3.12.0"
  }
 },
 "nbformat": 4,
 "nbformat_minor": 5
}
