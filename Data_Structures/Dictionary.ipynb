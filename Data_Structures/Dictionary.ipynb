{
 "cells": [
  {
   "cell_type": "code",
   "execution_count": 1,
   "id": "c6cd96b2",
   "metadata": {},
   "outputs": [
    {
     "name": "stdout",
     "output_type": "stream",
     "text": [
      "<class 'dict'>\n"
     ]
    }
   ],
   "source": [
    "## Creating Dictionaries\n",
    "empty_dict = {}\n",
    "print(type(empty_dict))"
   ]
  },
  {
   "cell_type": "code",
   "execution_count": 2,
   "id": "48e3ac9f",
   "metadata": {},
   "outputs": [
    {
     "name": "stdout",
     "output_type": "stream",
     "text": [
      "<class 'dict'>\n"
     ]
    }
   ],
   "source": [
    "empty_dict = dict()\n",
    "print(type(empty_dict))"
   ]
  },
  {
   "cell_type": "code",
   "execution_count": 3,
   "id": "6d17e2aa",
   "metadata": {},
   "outputs": [
    {
     "name": "stdout",
     "output_type": "stream",
     "text": [
      "{'name': 'Krish', 'age': 32, 'grade': 24}\n"
     ]
    }
   ],
   "source": [
    "student = {\"name\": \"Krish\", \"age\": 32, \"grade\": 24}\n",
    "print(student)"
   ]
  },
  {
   "cell_type": "code",
   "execution_count": null,
   "id": "5e2e9f7f",
   "metadata": {},
   "outputs": [
    {
     "name": "stdout",
     "output_type": "stream",
     "text": [
      "{'name': 24, 'age': 32, 'grade': 24}\n"
     ]
    }
   ],
   "source": [
    "student = {\"name\": \"Krish\", \"age\": 32, \"grade\": 24, \"name\": 24}\n",
    "print(student)\n",
    "\n",
    "## Output: {'name': 24, 'age': 32, 'grade': 24}"
   ]
  },
  {
   "cell_type": "code",
   "execution_count": null,
   "id": "feb21f16",
   "metadata": {},
   "outputs": [
    {
     "name": "stdout",
     "output_type": "stream",
     "text": [
      "A\n",
      "32\n"
     ]
    }
   ],
   "source": [
    "## Accessing dictionary elements - 1st method\n",
    "student = {\"name\": \"Krish\", \"age\": 32, \"grade\": \"A\"}\n",
    "print(student[\"grade\"])\n",
    "print(student[\"age\"])"
   ]
  },
  {
   "cell_type": "code",
   "execution_count": 13,
   "id": "4f0d88f1",
   "metadata": {},
   "outputs": [
    {
     "name": "stdout",
     "output_type": "stream",
     "text": [
      "A\n",
      "32\n",
      "Not available\n"
     ]
    }
   ],
   "source": [
    "## Accessing dictionary elements - 2nd method\n",
    "print(student.get(\"grade\"))\n",
    "print(student.get(\"age\"))\n",
    "print(student.get(\"lastname\", \"Not available\"))\n"
   ]
  },
  {
   "cell_type": "code",
   "execution_count": 14,
   "id": "20657442",
   "metadata": {},
   "outputs": [
    {
     "name": "stdout",
     "output_type": "stream",
     "text": [
      "{'name': 'Krish', 'age': 32, 'grade': 'A'}\n"
     ]
    }
   ],
   "source": [
    "## Modifying dictionary elements\n",
    "## Dictionary are mutable, so you can add, update and delete elements. Your keys must be unique always.\n",
    "\n",
    "print(student)"
   ]
  },
  {
   "cell_type": "code",
   "execution_count": 15,
   "id": "692a6409",
   "metadata": {},
   "outputs": [
    {
     "ename": "SyntaxError",
     "evalue": "invalid syntax (3192784436.py, line 1)",
     "output_type": "error",
     "traceback": [
      "  \u001b[36mCell\u001b[39m\u001b[36m \u001b[39m\u001b[32mIn[15]\u001b[39m\u001b[32m, line 1\u001b[39m\n\u001b[31m    \u001b[39m\u001b[31mstudent[]\u001b[39m\n            ^\n\u001b[31mSyntaxError\u001b[39m\u001b[31m:\u001b[39m invalid syntax\n"
     ]
    }
   ],
   "source": [
    "student[]"
   ]
  },
  {
   "cell_type": "code",
   "execution_count": null,
   "id": "659158f1",
   "metadata": {},
   "outputs": [
    {
     "name": "stdout",
     "output_type": "stream",
     "text": [
      "{'name': 'Krish', 'age': 33, 'grade': 'A'}\n",
      "{'name': 'Krish', 'age': 33, 'grade': 'A', 'address': 'India'}\n"
     ]
    }
   ],
   "source": [
    "student[\"age\"] = 33\n",
    "print(student)\n",
    "student[\"address\"]=\"India\"\n",
    "print(student)\n",
    "\n",
    "## Output\n",
    "## {'name': 'Krish', 'age': 33, 'grade': 'A'}\n",
    "## {'name': 'Krish', 'age': 33, 'grade': 'A', 'address': 'India'}"
   ]
  },
  {
   "cell_type": "code",
   "execution_count": null,
   "id": "ee61f464",
   "metadata": {},
   "outputs": [
    {
     "name": "stdout",
     "output_type": "stream",
     "text": [
      "{'name': 'Krish', 'grade': 'A', 'address': 'India'}\n"
     ]
    }
   ],
   "source": [
    "del student[\"age\"]\n",
    "print (student)\n",
    "##output : {'name': 'Krish', 'grade': 'A', 'address': 'India'}"
   ]
  },
  {
   "cell_type": "code",
   "execution_count": null,
   "id": "2da2359e",
   "metadata": {},
   "outputs": [
    {
     "name": "stdout",
     "output_type": "stream",
     "text": [
      "dict_keys(['name', 'grade', 'address'])\n"
     ]
    }
   ],
   "source": [
    "## Common Dictionary Methods\n",
    "\n",
    "## Get all keys\n",
    "\n",
    "student = {\"name\": \"Krish\", \"age\": 32, \"grade\": \"A\"}\n",
    "keys = student.keys()\n",
    "print(keys)\n",
    "\n",
    "## Output: dict_keys(['name', 'grade', 'address'])\n",
    "\n"
   ]
  },
  {
   "cell_type": "code",
   "execution_count": null,
   "id": "a50767f9",
   "metadata": {},
   "outputs": [
    {
     "name": "stdout",
     "output_type": "stream",
     "text": [
      "dict_values(['Krish', 'A', 'India'])\n"
     ]
    }
   ],
   "source": [
    "## For getting all the values in a dictionary:\n",
    "\n",
    "student = {\"name\": \"Krish\", \"age\": 32, \"grade\": \"A\"}\n",
    "values = student.values()\n",
    "print(values)\n",
    "\n",
    "##Output : dict_values(['Krish', 'A', 'India'])"
   ]
  },
  {
   "cell_type": "code",
   "execution_count": null,
   "id": "758d1e1b",
   "metadata": {},
   "outputs": [
    {
     "name": "stdout",
     "output_type": "stream",
     "text": [
      "dict_items([('name', 'Krish'), ('age', 32), ('grade', 'A')])\n"
     ]
    }
   ],
   "source": [
    "## To get all the items in the dictionary (we get the output as tuples)\n",
    "\n",
    "student = {\"name\": \"Krish\", \"age\": 32, \"grade\": \"A\"}\n",
    "items = student.items()\n",
    "print(items)\n",
    "\n",
    "##Output: dict_items([('name', 'Krish'), ('age', 32), ('grade', 'A')])"
   ]
  },
  {
   "cell_type": "code",
   "execution_count": null,
   "id": "c7101032",
   "metadata": {},
   "outputs": [
    {
     "name": "stdout",
     "output_type": "stream",
     "text": [
      "{'name': 'Krish', 'age': 32, 'grade': 'A'}\n",
      "{'name': 'Afiya', 'age': 32, 'grade': 'A'}\n"
     ]
    }
   ],
   "source": [
    "## Shallow Copy\n",
    "## We assign the student dictionary with key value pairs into a new variable called student_copy. Printing the student_copy will give the same output as printing student dictionary.\n",
    "## If we try to update the name in the main student dictionary, it will be updated in the copy as well. Likewise, if we make changes in the student_copy it will be updated in student as well.\n",
    "## To avoid the same, we use copy() method.\n",
    "\n",
    "student = {\"name\": \"Krish\", \"age\": 32, \"grade\": \"A\"}\n",
    "student_copy=student\n",
    "print(student_copy)\n",
    "\n",
    "## Output: {'name': 'Krish', 'age': 32, 'grade': 'A'}\n",
    "\n",
    "student[\"name\"]=\"Afiya\"\n",
    "print(student_copy)\n",
    "\n",
    "## Output: {'name': 'Afiya', 'age': 32, 'grade': 'A'}"
   ]
  },
  {
   "cell_type": "code",
   "execution_count": null,
   "id": "24dce751",
   "metadata": {},
   "outputs": [
    {
     "name": "stdout",
     "output_type": "stream",
     "text": [
      "{'name': 'Krish', 'age': 32, 'grade': 'A'}\n",
      "{'name': 'Krishhh', 'age': 32, 'grade': 'A'}\n",
      "{'name': 'Krish', 'age': 32, 'grade': 'A'}\n"
     ]
    }
   ],
   "source": [
    "## Shallow copy provides a different memory location. When we change one variable it should not impact the other one.\n",
    "## Copy() method: for shallow copy\n",
    "\n",
    "student = {\"name\": \"Krish\", \"age\": 32, \"grade\": \"A\"}\n",
    "student_copy1 = student.copy() \n",
    "print(student_copy1)\n",
    "\n",
    "## output: {'name': 'Afiya', 'age': 32, 'grade': 'A'}\n",
    "\n",
    "student[\"name\"]=\"Krishhh\"\n",
    "print(student)\n",
    "## Output: {'name': 'Krishhh', 'age': 32, 'grade': 'A'}\n",
    "print(student_copy1)\n",
    "## Output: {'name': 'Krish', 'age': 32, 'grade': 'A'}"
   ]
  },
  {
   "cell_type": "code",
   "execution_count": null,
   "id": "d7673e2a",
   "metadata": {},
   "outputs": [
    {
     "name": "stdout",
     "output_type": "stream",
     "text": [
      "name\n",
      "age\n",
      "grade\n"
     ]
    }
   ],
   "source": [
    "### Iterating Over Dictionaries\n",
    "## We use loops to iterate over dictionaries, keys, values or items.\n",
    "\n",
    "## Iterating over keys:\n",
    "for keys in student.keys():\n",
    "    print (keys)\n",
    "\n",
    "## Output: \n",
    "# name \n",
    "# age \n",
    "# grade\n",
    "\n"
   ]
  },
  {
   "cell_type": "code",
   "execution_count": null,
   "id": "56178e4b",
   "metadata": {},
   "outputs": [
    {
     "name": "stdout",
     "output_type": "stream",
     "text": [
      "Krishhh\n",
      "32\n",
      "A\n"
     ]
    }
   ],
   "source": [
    "## Iterating over values:\n",
    "for values in student.values():\n",
    "    print(values)\n",
    "\n",
    "## Output: \n",
    "# Krishhh \n",
    "# 32 \n",
    "# A"
   ]
  },
  {
   "cell_type": "code",
   "execution_count": null,
   "id": "05a902eb",
   "metadata": {},
   "outputs": [
    {
     "name": "stdout",
     "output_type": "stream",
     "text": [
      "name: Krishhh\n",
      "age: 32\n",
      "grade: A\n"
     ]
    }
   ],
   "source": [
    "## Iterate over key-value pairs:\n",
    "for key,value in student.items():\n",
    "    print(f\"{key}: {value}\")\n",
    "\n",
    "## Output:\n",
    "# name: Krishhh\n",
    "# age: 32\n",
    "# grade: A"
   ]
  },
  {
   "cell_type": "code",
   "execution_count": null,
   "id": "0567651f",
   "metadata": {},
   "outputs": [
    {
     "name": "stdout",
     "output_type": "stream",
     "text": [
      "{'student1': {'name': 'Krish', 'age': 32}, 'student2': {'name': 'Afiya', 'age': 25}}\n"
     ]
    }
   ],
   "source": [
    "### Nested Dictionaries\n",
    "## Nested dictionary means its a dictionary inside dictionary.\n",
    "\n",
    "students={\n",
    "    \"student1\":{\"name\": \"Krish\", \"age\": 32},\n",
    "    \"student2\":{\"name\": \"Afiya\", \"age\": 25}\n",
    "}\n",
    "print(students)\n",
    "\n",
    "## Output: {'student1': {'name': 'Krish', 'age': 32}, 'student2': {'name': 'Afiya', 'age': 25}}"
   ]
  },
  {
   "cell_type": "code",
   "execution_count": 27,
   "id": "0101c2db",
   "metadata": {},
   "outputs": [
    {
     "name": "stdout",
     "output_type": "stream",
     "text": [
      "Afiya\n",
      "25\n"
     ]
    }
   ],
   "source": [
    "## Access nested dictionary elements\n",
    "\n",
    "print(students[\"student2\"][\"name\"])\n",
    "\n",
    "## Output: Afiya\n",
    "\n",
    "print(students[\"student2\"][\"age\"])\n",
    "\n",
    "## Output: 25"
   ]
  },
  {
   "cell_type": "code",
   "execution_count": null,
   "id": "4e587606",
   "metadata": {},
   "outputs": [
    {
     "name": "stdout",
     "output_type": "stream",
     "text": [
      "student1: {'name': 'Krish', 'age': 32}\n",
      "name: Krish\n",
      "age: 32\n",
      "student2: {'name': 'Afiya', 'age': 25}\n",
      "name: Afiya\n",
      "age: 25\n"
     ]
    }
   ],
   "source": [
    "## Iterating over nested dictionaries:\n",
    "\n",
    "for student_id, student_info in students.items():\n",
    "    print(f\"{student_id}: {student_info}\")\n",
    "    for key,value in student_info.items():\n",
    "        print(f\"{key}: {value}\")\n",
    "\n",
    "## Output: \n",
    "# student1: {'name': 'Krish', 'age': 32}\n",
    "# name: Krish\n",
    "# age: 32\n",
    "# student2: {'name': 'Afiya', 'age': 25}\n",
    "# name: Afiya\n",
    "# age: 25"
   ]
  },
  {
   "cell_type": "code",
   "execution_count": null,
   "id": "a3b281c4",
   "metadata": {},
   "outputs": [
    {
     "name": "stdout",
     "output_type": "stream",
     "text": [
      "{0: 0, 1: 1, 2: 4, 3: 9, 4: 16}\n"
     ]
    }
   ],
   "source": [
    "## Dictionary Comprehension\n",
    "## Square of numbers printing\n",
    "\n",
    "squares = {x:x**2 for x in range(5)}\n",
    "print(squares)\n",
    "\n",
    "## Output: {0: 0, 1: 1, 2: 4, 3: 9, 4: 16}"
   ]
  },
  {
   "cell_type": "code",
   "execution_count": null,
   "id": "c5a7d7b1",
   "metadata": {},
   "outputs": [
    {
     "name": "stdout",
     "output_type": "stream",
     "text": [
      "{0: 0, 2: 4, 4: 16, 6: 36, 8: 64}\n"
     ]
    }
   ],
   "source": [
    "## Condtional Dictionary Comprehension\n",
    "## squares of only even numbers\n",
    "\n",
    "evens = {x:x**2 for x in range(10) if x%2==0}\n",
    "print(evens)\n",
    "\n",
    "## Output: {0: 0, 2: 4, 4: 16, 6: 36, 8: 64}"
   ]
  },
  {
   "cell_type": "code",
   "execution_count": null,
   "id": "fe2fa8fc",
   "metadata": {},
   "outputs": [
    {
     "name": "stdout",
     "output_type": "stream",
     "text": [
      "{1: 1, 2: 2, 3: 2, 4: 3, 5: 5}\n"
     ]
    }
   ],
   "source": [
    "## Practical Examples\n",
    "## Use dictionary to count the frequency of elements in list\n",
    "\n",
    "numbers = [1,2,3,3,4,4,4,2,5,5,5,5,5]\n",
    "frequency = {}\n",
    "\n",
    "for number in numbers:\n",
    "    if number in frequency:\n",
    "        frequency[number]+=1\n",
    "    else:\n",
    "        frequency[number]=1\n",
    "print(frequency)\n",
    "\n",
    "## Output: {1: 1, 2: 2, 3: 2, 4: 3, 5: 5}"
   ]
  },
  {
   "cell_type": "code",
   "execution_count": null,
   "id": "1078c007",
   "metadata": {},
   "outputs": [
    {
     "name": "stdout",
     "output_type": "stream",
     "text": [
      "{'a': 1, 'b': 3, 'c': 4}\n"
     ]
    }
   ],
   "source": [
    "## Merge 2 dictionaries into one\n",
    "## Here asterisks and the arguments used inside are keyword arguments.\n",
    "\n",
    "dict1 = {\"a\":1, \"b\":2}\n",
    "dict2 = {\"b\":3, \"c\":4}\n",
    "merged_dict = {**dict1, **dict2}\n",
    "print(merged_dict)\n",
    "\n",
    "##Output: {'a': 1, 'b': 3, 'c': 4}"
   ]
  },
  {
   "cell_type": "code",
   "execution_count": null,
   "id": "2feccf74",
   "metadata": {},
   "outputs": [],
   "source": []
  }
 ],
 "metadata": {
  "kernelspec": {
   "display_name": "Python 3",
   "language": "python",
   "name": "python3"
  },
  "language_info": {
   "codemirror_mode": {
    "name": "ipython",
    "version": 3
   },
   "file_extension": ".py",
   "mimetype": "text/x-python",
   "name": "python",
   "nbconvert_exporter": "python",
   "pygments_lexer": "ipython3",
   "version": "3.12.0"
  }
 },
 "nbformat": 4,
 "nbformat_minor": 5
}
