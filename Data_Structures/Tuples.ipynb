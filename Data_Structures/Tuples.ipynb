{
 "cells": [
  {
   "cell_type": "markdown",
   "id": "b2e4df85",
   "metadata": {},
   "source": [
    "Tuples\n",
    "\n",
    "Tuples are ordered collection if items that are immutable. They are similar to lists, but their immutability makes them different."
   ]
  },
  {
   "cell_type": "code",
   "execution_count": null,
   "id": "e9a13ce8",
   "metadata": {},
   "outputs": [
    {
     "name": "stdout",
     "output_type": "stream",
     "text": [
      "<class 'tuple'>\n"
     ]
    }
   ],
   "source": [
    "## Now let's discuss some ways of creating a tuple.\n",
    "## creating a tuple:\n",
    "\n",
    "empty_tuple=()\n",
    "print(type(empty_tuple))"
   ]
  },
  {
   "cell_type": "code",
   "execution_count": null,
   "id": "bbb56695",
   "metadata": {},
   "outputs": [
    {
     "name": "stdout",
     "output_type": "stream",
     "text": [
      "<class 'list'>\n",
      "<class 'tuple'>\n"
     ]
    }
   ],
   "source": [
    "## Using list(), tuple() methods, we can create empty list and empty tuple.\n",
    "\n",
    "lst = list()\n",
    "print(type(lst))\n",
    "\n",
    "tple=tuple()\n",
    "print(type(tple))\n",
    "\n",
    "## Output: \n",
    "# <class 'list'>\n",
    "# <class 'tuple'>"
   ]
  },
  {
   "cell_type": "code",
   "execution_count": null,
   "id": "0a990065",
   "metadata": {},
   "outputs": [
    {
     "name": "stdout",
     "output_type": "stream",
     "text": [
      "(1, 2, 3, 4, 5, 6)\n"
     ]
    }
   ],
   "source": [
    "numbers = tuple([1,2,3,4,5,6])\n",
    "print(numbers)\n",
    "\n",
    "## Output: (1, 2, 3, 4, 5, 6)"
   ]
  },
  {
   "cell_type": "code",
   "execution_count": null,
   "id": "c1e930e1",
   "metadata": {},
   "outputs": [
    {
     "name": "stdout",
     "output_type": "stream",
     "text": [
      "(1, 'Hello_world', 3.14, True)\n"
     ]
    }
   ],
   "source": [
    "mixed_tuple = (1, \"Hello_world\", 3.14, True)\n",
    "print(mixed_tuple)\n",
    "\n",
    "## Output: (1, 'Hello_world', 3.14, True)"
   ]
  },
  {
   "cell_type": "code",
   "execution_count": null,
   "id": "b61f4a7e",
   "metadata": {},
   "outputs": [
    {
     "data": {
      "text/plain": [
       "(6, 5, 4, 3, 2, 1)"
      ]
     },
     "execution_count": 13,
     "metadata": {},
     "output_type": "execute_result"
    }
   ],
   "source": [
    "## Accessing Tuple Elements:\n",
    "numbers = tuple([1,2,3,4,5,6])\n",
    "numbers[0] ##accessing first element at zeroth index -1\n",
    "numbers[3] ##accessing fourth element at third index -4\n",
    "numbers[-1] ##accessing last element -6\n",
    "\n",
    "numbers[0:4] ##accessing elements from oth index to 4th index, however fourth index element won't be displayed.\n",
    "numbers[::] ##displaying all elements \n",
    "numbers[::-1] ##displaying all elements in reverse order"
   ]
  },
  {
   "cell_type": "code",
   "execution_count": null,
   "id": "9d11a8b4",
   "metadata": {},
   "outputs": [
    {
     "name": "stdout",
     "output_type": "stream",
     "text": [
      "(1, 2, 3, 4, 5, 6, 1, 'Hello_world', 3.14, True)\n"
     ]
    }
   ],
   "source": [
    "## Tuple Operations\n",
    "## Tuple supports various operations like concatenation, repeatation and slicing\n",
    "\n",
    "numbers = tuple([1,2,3,4,5,6])\n",
    "mixed_tuple = (1, \"Hello_world\", 3.14, True)\n",
    "print(numbers + mixed_tuple) ##concatenation - combining two tuples\n",
    "## output: (1, 2, 3, 4, 5, 6, 1, 'Hello_world', 3.14, True)\n"
   ]
  },
  {
   "cell_type": "code",
   "execution_count": null,
   "id": "eda0f5c7",
   "metadata": {},
   "outputs": [
    {
     "name": "stdout",
     "output_type": "stream",
     "text": [
      "(1, 'Hello_world', 3.14, True, 1, 'Hello_world', 3.14, True, 1, 'Hello_world', 3.14, True)\n"
     ]
    }
   ],
   "source": [
    "## Repeatation - It's done using the multiplication method. If you multiply it with 3 the tuple will be duplicated to 3 times.\n",
    "mixed_tuple = (1, \"Hello_world\", 3.14, True)\n",
    "print(mixed_tuple * 3)\n",
    "\n",
    "## Output: (1, 'Hello_world', 3.14, True, 1, 'Hello_world', 3.14, True, 1, 'Hello_world', 3.14, True)"
   ]
  },
  {
   "cell_type": "code",
   "execution_count": null,
   "id": "7a9ccd5b",
   "metadata": {},
   "outputs": [],
   "source": []
  }
 ],
 "metadata": {
  "kernelspec": {
   "display_name": "Python 3",
   "language": "python",
   "name": "python3"
  },
  "language_info": {
   "codemirror_mode": {
    "name": "ipython",
    "version": 3
   },
   "file_extension": ".py",
   "mimetype": "text/x-python",
   "name": "python",
   "nbconvert_exporter": "python",
   "pygments_lexer": "ipython3",
   "version": "3.12.0"
  }
 },
 "nbformat": 4,
 "nbformat_minor": 5
}
