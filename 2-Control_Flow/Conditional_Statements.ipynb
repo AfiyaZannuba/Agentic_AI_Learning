{
 "cells": [
  {
   "cell_type": "code",
   "execution_count": 1,
   "id": "d88ece8e",
   "metadata": {},
   "outputs": [
    {
     "name": "stdout",
     "output_type": "stream",
     "text": [
      "You are allowed to vote in the elections\n"
     ]
    }
   ],
   "source": [
    "# if statement\n",
    "age=20\n",
    "if age>=18:\n",
    "    print(\"You are allowed to vote in the elections\")"
   ]
  },
  {
   "cell_type": "code",
   "execution_count": 2,
   "id": "230f122e",
   "metadata": {},
   "outputs": [],
   "source": [
    "## if statment evaluates a condition and it executes the block of code inside it, if the condition is true."
   ]
  },
  {
   "cell_type": "code",
   "execution_count": 6,
   "id": "cef2e509",
   "metadata": {},
   "outputs": [
    {
     "name": "stdout",
     "output_type": "stream",
     "text": [
      "You are a minor\n"
     ]
    }
   ],
   "source": [
    "## else\n",
    "\n",
    "## The else statement evaulates a condition and it executes the block, if the condition is false.\n",
    "\n",
    "age = 16\n",
    "if age>=18:\n",
    "    print(\"You are eligible to vote\")\n",
    "else:\n",
    "    print(\"You are a minor\")"
   ]
  },
  {
   "cell_type": "code",
   "execution_count": 7,
   "id": "26e42e40",
   "metadata": {},
   "outputs": [
    {
     "name": "stdout",
     "output_type": "stream",
     "text": [
      "You are an adult\n"
     ]
    }
   ],
   "source": [
    "## elif\n",
    "## The elif statement allows you to check multiple conditions. It stands for \"else if\"\n",
    "\n",
    "age = 20\n",
    "if age<13:\n",
    "    print(\"You are a child\")\n",
    "elif age<18:\n",
    "    print(\"You are a teenager\")\n",
    "else:\n",
    "    print(\"You are an adult\")"
   ]
  },
  {
   "cell_type": "code",
   "execution_count": null,
   "id": "d4ac99c9",
   "metadata": {},
   "outputs": [
    {
     "name": "stdout",
     "output_type": "stream",
     "text": [
      "The number is positive\n",
      "The number is even\n"
     ]
    }
   ],
   "source": [
    "## Nested Conditional Statements\n",
    "\n",
    "## You can place one or more if, elif or else statement to created nested conditional statements. You will have to manage indentation part, to run the code without errors.\n",
    "## check a number if even, odd or negative\n",
    "\n",
    "num = int(input(\"Enter the number\"))\n",
    "if (num>0):\n",
    "    print(\"The number is positive\")\n",
    "    if(num%2==0):\n",
    "        print(\"The number is even\")\n",
    "    else:\n",
    "        print(\"The number is odd\")\n",
    "else:\n",
    "    print(\"The number is zero or negative\")"
   ]
  },
  {
   "cell_type": "code",
   "execution_count": 10,
   "id": "850cb6cf",
   "metadata": {},
   "outputs": [
    {
     "name": "stdout",
     "output_type": "stream",
     "text": [
      "2026 is not a leap year\n"
     ]
    }
   ],
   "source": [
    "## Practical Examples\n",
    "\n",
    "## Determine if a year is a leap year using nested conditional statement.\n",
    "\n",
    "year = int(input('Enter the year'))\n",
    "if year%4==0:\n",
    "    if year%100==0:\n",
    "        if year%400==0:\n",
    "            print(year, \"is a leap year\")\n",
    "        else:\n",
    "            print(year, \"is not a leap year\")\n",
    "    else:\n",
    "        print(year, \"is a leap year\")\n",
    "else:\n",
    "    print(year, \"is not a leap year\")"
   ]
  },
  {
   "cell_type": "code",
   "execution_count": null,
   "id": "6106ae06",
   "metadata": {},
   "outputs": [
    {
     "name": "stdout",
     "output_type": "stream",
     "text": [
      "Result:  2.0\n"
     ]
    }
   ],
   "source": [
    "## Assignments\n",
    "## Simple calculator: take input from the user, do all the types of calculation.\n",
    "num1 = float(input('Enter first number: '))\n",
    "num2 = float(input('Enter second number'))\n",
    "operation = input('Enter the operation (+, -, *, /): ')\n",
    "\n",
    "if operation == '+':\n",
    "    result = num1 + num2\n",
    "elif operation == '-':\n",
    "    result = num1 - num2\n",
    "elif operation == '*':\n",
    "    result = num1 * num2\n",
    "elif operation == '/':\n",
    "    if num2 != 0:\n",
    "        result = num1/num2\n",
    "    else:\n",
    "        result = \"Error! Division by zeror\"\n",
    "else:\n",
    "    result = \"Invalid Operation\"\n",
    "\n",
    "print(\"Result: \", result)\n"
   ]
  },
  {
   "cell_type": "code",
   "execution_count": 16,
   "id": "1d622196",
   "metadata": {},
   "outputs": [
    {
     "name": "stdout",
     "output_type": "stream",
     "text": [
      "ticket price: $20\n"
     ]
    }
   ],
   "source": [
    "## Determine the ticket price based on the age whether the person is a student.\n",
    "\n",
    "age = int(input(\"Enter your age: \"))\n",
    "is_student = input(\"Are you a student? (Yes/no)\").lower()\n",
    "\n",
    "if age < 5:\n",
    "    price = \"Free\"\n",
    "elif age <=12:\n",
    "    price = \"$10\"\n",
    "elif age <=17:\n",
    "    if is_student == \"yes\":\n",
    "        price = \"$12\"\n",
    "    else:\n",
    "        price=\"$15\"\n",
    "elif age <= 64:\n",
    "    if is_student == \"yes\":\n",
    "        price = \"$18\"\n",
    "    else:\n",
    "        price = \"$25\"\n",
    "else:\n",
    "    price = \"$20\"\n",
    "\n",
    "print('ticket price:', price)\n",
    "        \n",
    "\n",
    "\n"
   ]
  },
  {
   "cell_type": "code",
   "execution_count": 17,
   "id": "8d1fec33",
   "metadata": {},
   "outputs": [
    {
     "data": {
      "text/plain": [
       "range(0, 5)"
      ]
     },
     "execution_count": 17,
     "metadata": {},
     "output_type": "execute_result"
    }
   ],
   "source": [
    "## Loops in Python\n",
    "\n",
    "## for loop\n",
    "\n",
    "## For loop is used to iterate over a sequence of numbers.\n",
    "\n",
    "range(5)"
   ]
  },
  {
   "cell_type": "code",
   "execution_count": 19,
   "id": "81e2454e",
   "metadata": {},
   "outputs": [
    {
     "name": "stdout",
     "output_type": "stream",
     "text": [
      "0\n",
      "1\n",
      "2\n",
      "3\n",
      "4\n"
     ]
    }
   ],
   "source": [
    "for i in range(5):\n",
    "    print (i)\n"
   ]
  },
  {
   "cell_type": "code",
   "execution_count": 20,
   "id": "f347c51f",
   "metadata": {},
   "outputs": [
    {
     "name": "stdout",
     "output_type": "stream",
     "text": [
      "1\n",
      "2\n",
      "3\n",
      "4\n",
      "5\n"
     ]
    }
   ],
   "source": [
    "for i in range(1, 6):\n",
    "    print (i)"
   ]
  },
  {
   "cell_type": "code",
   "execution_count": null,
   "id": "18f722e7",
   "metadata": {},
   "outputs": [
    {
     "data": {
      "text/plain": [
       "range(1, 10, 2)"
      ]
     },
     "execution_count": 21,
     "metadata": {},
     "output_type": "execute_result"
    }
   ],
   "source": [
    "range (1, 10, 2)\n",
    "\n",
    "## Here the third integer we added is called step. This number will be used to increment it. The second number won't be included, the numbers will be printed only until the second number."
   ]
  },
  {
   "cell_type": "code",
   "execution_count": 25,
   "id": "d9198147",
   "metadata": {},
   "outputs": [
    {
     "name": "stdout",
     "output_type": "stream",
     "text": [
      "1\n",
      "3\n",
      "5\n",
      "7\n",
      "9\n"
     ]
    }
   ],
   "source": [
    "for i in range(1, 10, 2):\n",
    "    print(i)\n"
   ]
  },
  {
   "cell_type": "code",
   "execution_count": 27,
   "id": "0a593e3d",
   "metadata": {},
   "outputs": [
    {
     "name": "stdout",
     "output_type": "stream",
     "text": [
      "10\n",
      "9\n",
      "8\n",
      "7\n",
      "6\n",
      "5\n",
      "4\n",
      "3\n",
      "2\n",
      "1\n"
     ]
    }
   ],
   "source": [
    "for i in range(10, 0, -1):\n",
    "    print (i)"
   ]
  },
  {
   "cell_type": "code",
   "execution_count": 28,
   "id": "a6af444d",
   "metadata": {},
   "outputs": [
    {
     "name": "stdout",
     "output_type": "stream",
     "text": [
      "10\n",
      "8\n",
      "6\n",
      "4\n",
      "2\n"
     ]
    }
   ],
   "source": [
    "for i in range (10, 1, -2):\n",
    "    print (i)"
   ]
  },
  {
   "cell_type": "code",
   "execution_count": null,
   "id": "02350beb",
   "metadata": {},
   "outputs": [
    {
     "name": "stdout",
     "output_type": "stream",
     "text": [
      "A\n",
      "f\n",
      "i\n",
      "y\n",
      "a\n",
      " \n",
      "z\n",
      "a\n",
      "n\n",
      "n\n",
      "u\n",
      "b\n",
      "a\n",
      " \n",
      "j\n",
      "a\n",
      "l\n",
      "e\n",
      "e\n",
      "l\n"
     ]
    }
   ],
   "source": [
    "## strings\n",
    "## string is just a collection of characters. We can traverse through characters using for loop.\n",
    "\n",
    "\n",
    "str = \"Afiya zannuba jaleel\"\n",
    "for i in str:\n",
    "    print (i)"
   ]
  },
  {
   "cell_type": "code",
   "execution_count": 30,
   "id": "50080b96",
   "metadata": {},
   "outputs": [
    {
     "name": "stdout",
     "output_type": "stream",
     "text": [
      "0\n",
      "1\n",
      "2\n",
      "3\n",
      "4\n"
     ]
    }
   ],
   "source": [
    "## while loop\n",
    "## The while loop continuos to execute as long as the condition is True.\n",
    "\n",
    "count = 0\n",
    "\n",
    "while count<5:\n",
    "    print(count)\n",
    "    count = count+1"
   ]
  },
  {
   "cell_type": "code",
   "execution_count": 1,
   "id": "bbe62c92",
   "metadata": {},
   "outputs": [
    {
     "name": "stdout",
     "output_type": "stream",
     "text": [
      "0\n"
     ]
    }
   ],
   "source": [
    "count = 0\n",
    "while count%2==0:\n",
    "    print(count)\n",
    "    count=count+1\n",
    "    "
   ]
  },
  {
   "cell_type": "code",
   "execution_count": 34,
   "id": "d20b1cb0",
   "metadata": {},
   "outputs": [
    {
     "name": "stdout",
     "output_type": "stream",
     "text": [
      "0\n",
      "1\n",
      "2\n",
      "3\n",
      "4\n"
     ]
    }
   ],
   "source": [
    "## Loop Control statements\n",
    "\n",
    "## break\n",
    "## The break statement exits the loop prematurely\n",
    "\n",
    "## break statement\n",
    "for i in range(10):\n",
    "    if i==5:\n",
    "        break\n",
    "    print (i)"
   ]
  },
  {
   "cell_type": "code",
   "execution_count": 35,
   "id": "2c027fb4",
   "metadata": {},
   "outputs": [
    {
     "name": "stdout",
     "output_type": "stream",
     "text": [
      "1\n",
      "3\n",
      "5\n",
      "7\n",
      "9\n"
     ]
    }
   ],
   "source": [
    "## continue\n",
    "## The continue statement skips the current iteration and continues with the next\n",
    "\n",
    "for i in range(10):\n",
    "    if i%2==0:\n",
    "        continue\n",
    "    print (i)"
   ]
  },
  {
   "cell_type": "code",
   "execution_count": 36,
   "id": "7d044b03",
   "metadata": {},
   "outputs": [
    {
     "name": "stdout",
     "output_type": "stream",
     "text": [
      "0\n",
      "1\n",
      "2\n",
      "3\n",
      "4\n"
     ]
    }
   ],
   "source": [
    "## pass\n",
    "## The pass statement is a null operation and it does nothing.\n",
    "\n",
    "for i in range(5):\n",
    "    if i==3:\n",
    "        pass\n",
    "    print(i)"
   ]
  },
  {
   "cell_type": "code",
   "execution_count": 37,
   "id": "73eaa499",
   "metadata": {},
   "outputs": [
    {
     "name": "stdout",
     "output_type": "stream",
     "text": [
      "i: 0 and j: 0\n",
      "i: 0 and j: 1\n",
      "i: 1 and j: 0\n",
      "i: 1 and j: 1\n",
      "i: 2 and j: 0\n",
      "i: 2 and j: 1\n"
     ]
    }
   ],
   "source": [
    "## Nested Loops\n",
    "\n",
    "## A loop inside a loop is called nested loop\n",
    "\n",
    "for i in range(3):\n",
    "    for j in range(2):\n",
    "        print(f\"i: {i} and j: {j}\")"
   ]
  },
  {
   "cell_type": "code",
   "execution_count": 2,
   "id": "ab328ba5",
   "metadata": {},
   "outputs": [
    {
     "name": "stdout",
     "output_type": "stream",
     "text": [
      "Sum of first 10 natural numbers:\n"
     ]
    }
   ],
   "source": [
    "## Examples - Calculate the sum of first N natural numbers using a while and for loop.\n",
    "\n",
    "## while loop\n",
    "\n",
    "n=10\n",
    "sum=0\n",
    "count=1\n",
    "\n",
    "while count<=n:\n",
    "    sum=sum+count\n",
    "    count=count+1\n",
    "print(\"Sum of first 10 natural numbers:\",)"
   ]
  },
  {
   "cell_type": "code",
   "execution_count": 41,
   "id": "63b74288",
   "metadata": {},
   "outputs": [
    {
     "name": "stdout",
     "output_type": "stream",
     "text": [
      "55\n"
     ]
    }
   ],
   "source": [
    "## for loop\n",
    "\n",
    "n=10\n",
    "sum=0\n",
    "\n",
    "for i in range(11):\n",
    "    sum=sum+i\n",
    "print (sum)"
   ]
  },
  {
   "cell_type": "code",
   "execution_count": 42,
   "id": "da4081ae",
   "metadata": {},
   "outputs": [
    {
     "name": "stdout",
     "output_type": "stream",
     "text": [
      "2\n",
      "3\n",
      "5\n",
      "7\n",
      "11\n",
      "13\n",
      "17\n",
      "19\n",
      "23\n",
      "29\n",
      "31\n",
      "37\n",
      "41\n",
      "43\n",
      "47\n",
      "53\n",
      "59\n",
      "61\n",
      "67\n",
      "71\n",
      "73\n",
      "79\n",
      "83\n",
      "89\n",
      "97\n"
     ]
    }
   ],
   "source": [
    "## Example - Display prime numbers between 1 and 100\n",
    "\n",
    "## for loop\n",
    "\n",
    "for num in range(1, 101):\n",
    "    if num>1:\n",
    "        for i in range(2, num):\n",
    "            if num%i==0:\n",
    "                break\n",
    "        else:\n",
    "            print(num)"
   ]
  },
  {
   "cell_type": "code",
   "execution_count": null,
   "id": "e5eef294",
   "metadata": {},
   "outputs": [],
   "source": []
  }
 ],
 "metadata": {
  "kernelspec": {
   "display_name": "Python 3",
   "language": "python",
   "name": "python3"
  },
  "language_info": {
   "codemirror_mode": {
    "name": "ipython",
    "version": 3
   },
   "file_extension": ".py",
   "mimetype": "text/x-python",
   "name": "python",
   "nbconvert_exporter": "python",
   "pygments_lexer": "ipython3",
   "version": "3.12.0"
  }
 },
 "nbformat": 4,
 "nbformat_minor": 5
}
